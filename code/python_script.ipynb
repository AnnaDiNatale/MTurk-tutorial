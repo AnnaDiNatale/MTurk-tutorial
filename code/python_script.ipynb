{
 "cells": [
  {
   "cell_type": "code",
   "execution_count": null,
   "metadata": {},
   "outputs": [],
   "source": [
    "from boto3 import client\n",
    "import json\n",
    "import xmltodict\n",
    "import pickle"
   ]
  },
  {
   "cell_type": "code",
   "execution_count": null,
   "metadata": {},
   "outputs": [],
   "source": [
    "data=open('../config.json', 'r').read()\n",
    "config = json.loads(data)['hitCreation']"
   ]
  },
  {
   "cell_type": "code",
   "execution_count": null,
   "metadata": {},
   "outputs": [],
   "source": [
    "if config['production']:\n",
    "    endpoint_url = 'https://mturk-requester.us-east-1.amazonaws.com'\n",
    "else:\n",
    "    endpoint_url = 'https://mturk-requester-sandbox.us-east-1.amazonaws.com'\n",
    "print(config['production'])\n",
    "print(config['numAssignments'])"
   ]
  },
  {
   "cell_type": "code",
   "execution_count": null,
   "metadata": {},
   "outputs": [],
   "source": [
    "cl = client('mturk',\n",
    "    aws_access_key_id = \"xxxx\",\n",
    "    aws_secret_access_key = \"xxxx\",\n",
    "    region_name='us-east-1',\n",
    "    endpoint_url = endpoint_url\n",
    "    )"
   ]
  },
  {
   "cell_type": "code",
   "execution_count": null,
   "metadata": {},
   "outputs": [],
   "source": [
    "#cl.get_account_balance()"
   ]
  },
  {
   "cell_type": "markdown",
   "metadata": {},
   "source": [
    "function for creating the HIT"
   ]
  },
  {
   "cell_type": "code",
   "execution_count": null,
   "metadata": {},
   "outputs": [],
   "source": [
    "def create_hit():\n",
    "    if config['production']:\n",
    "        quals = [\n",
    "           {\n",
    "               'QualificationTypeId': '00000000000000000071',\n",
    "               'Comparator': 'EqualTo',\n",
    "               'LocaleValues': [{\n",
    "                   'Country': 'US',\n",
    "               }],\n",
    "           },\n",
    "           {\n",
    "               'QualificationTypeId': '000000000000000000L0',\n",
    "               'Comparator': 'GreaterThanOrEqualTo',\n",
    "               'IntegerValues': [\n",
    "                   97\n",
    "                   ],\n",
    "           },\n",
    "           {\n",
    "               'QualificationTypeId': '00000000000000000040',\n",
    "               'Comparator': 'GreaterThanOrEqualTo',\n",
    "               'IntegerValues': [\n",
    "                   100\n",
    "                   ],\n",
    "           },\n",
    "        ]\n",
    "    else:\n",
    "        quals=[]\n",
    "    questionText = \"<ExternalQuestion xmlns=\\\"http://mechanicalturk.amazonaws.com/AWSMechanicalTurkDataSchemas/\"\n",
    "    questionText += \"2006-07-14/ExternalQuestion.xsd\\\">\\n<ExternalURL>\" + config['taskUrl']\n",
    "    questionText += \"</ExternalURL>\\n  <FrameHeight>700</FrameHeight>\\n</ExternalQuestion>\"\n",
    "    new_hit=cl.create_hit(\n",
    "        MaxAssignments=config['numAssignments'],\n",
    "        AutoApprovalDelayInSeconds=604800,\n",
    "        LifetimeInSeconds=config['lifetime'],\n",
    "        AssignmentDurationInSeconds=config['duration'],\n",
    "        Reward=config['rewardAmount'],\n",
    "        Title=config['title'],\n",
    "        Keywords=config['keywords'],\n",
    "        Description=config['description'],\n",
    "        Question=questionText,\n",
    "        QualificationRequirements=quals,\n",
    "        )\n",
    "    hit_id=new_hit['HIT']['HITId']\n",
    "    return(new_hit)"
   ]
  },
  {
   "cell_type": "markdown",
   "metadata": {},
   "source": [
    "Creation of the HIT"
   ]
  },
  {
   "cell_type": "code",
   "execution_count": null,
   "metadata": {
    "scrolled": true
   },
   "outputs": [],
   "source": [
    "url=create_hit()\n",
    "print(\"A new HIT has been created. You can preview it here:\")\n",
    "if config['production']:\n",
    "    print(\"https://worker.mturk.com/mturk/preview?groupId=\" + url['HIT']['HITGroupId'])\n",
    "else:\n",
    "    print(\"https://workersandbox.mturk.com/mturk/preview?groupId=\" + url['HIT']['HITGroupId'])\n",
    "\n",
    "print (\"HITID = \" + url['HIT']['HITId'] + \" (Use to Get Results)\")"
   ]
  },
  {
   "cell_type": "markdown",
   "metadata": {},
   "source": [
    "Update the expiration time of a HIT"
   ]
  },
  {
   "cell_type": "code",
   "execution_count": null,
   "metadata": {},
   "outputs": [],
   "source": [
    "cl.update_expiration_for_hit(HITId='xxxx',ExpireAt=1582806900)"
   ]
  },
  {
   "cell_type": "markdown",
   "metadata": {},
   "source": [
    "Results of the workers"
   ]
  },
  {
   "cell_type": "code",
   "execution_count": null,
   "metadata": {
    "scrolled": false
   },
   "outputs": [],
   "source": [
    "worker_results = cl.list_assignments_for_hit(HITId=url['HIT']['HITId'], AssignmentStatuses=['Submitted'])\n",
    "print(worker_results)"
   ]
  },
  {
   "cell_type": "code",
   "execution_count": null,
   "metadata": {},
   "outputs": [],
   "source": [
    "worker_results = cl.list_assignments_for_hit(HITId='xxxx', AssignmentStatuses=['Submitted'])\n",
    "worker_results"
   ]
  },
  {
   "cell_type": "markdown",
   "metadata": {},
   "source": [
    "Save the results in a obj file"
   ]
  },
  {
   "cell_type": "code",
   "execution_count": null,
   "metadata": {},
   "outputs": [],
   "source": [
    "file= open('results.obj', 'wb')\n",
    "pickle.dump(worker_results, file)"
   ]
  },
  {
   "cell_type": "code",
   "execution_count": null,
   "metadata": {},
   "outputs": [],
   "source": [
    "import os\n",
    "os.path.getsize('results.obj')"
   ]
  },
  {
   "cell_type": "markdown",
   "metadata": {},
   "source": [
    "Reads the file"
   ]
  },
  {
   "cell_type": "code",
   "execution_count": null,
   "metadata": {},
   "outputs": [],
   "source": [
    "#file1=open('results.obj', 'rb')\n",
    "#workers=pickle.load(file1)"
   ]
  },
  {
   "cell_type": "code",
   "execution_count": null,
   "metadata": {},
   "outputs": [],
   "source": [
    "HITTypeId= 'xxxx'\n",
    "cl.list_reviewable_hits(HITTypeId=HITTypeId)"
   ]
  },
  {
   "cell_type": "markdown",
   "metadata": {},
   "source": [
    "Approves the assignments. It is not necessary. It will be done automatically after a while from the submission of the answers"
   ]
  },
  {
   "cell_type": "code",
   "execution_count": null,
   "metadata": {},
   "outputs": [],
   "source": [
    "cl.approve_assignment(AssignmentId='xxx',RequesterFeedback=\"Thank you!\")"
   ]
  },
  {
   "cell_type": "markdown",
   "metadata": {},
   "source": [
    "To appprove an assignment that you previously rejected:"
   ]
  },
  {
   "cell_type": "code",
   "execution_count": null,
   "metadata": {},
   "outputs": [],
   "source": [
    "cl.approve_assignment(AssignmentId='xxx',RequesterFeedback=\"Thank you!\",OverrideRejection=True)"
   ]
  },
  {
   "cell_type": "markdown",
   "metadata": {},
   "source": [
    "Reject the output of a worker"
   ]
  },
  {
   "cell_type": "code",
   "execution_count": null,
   "metadata": {},
   "outputs": [],
   "source": [
    "cl.reject_assignment(AssignmentId='xxx',RequesterFeedback=\"You failed the control questions. We are sorry.\")"
   ]
  },
  {
   "cell_type": "markdown",
   "metadata": {},
   "source": [
    "Lists the last HITs published on the Marketplace"
   ]
  },
  {
   "cell_type": "code",
   "execution_count": null,
   "metadata": {
    "scrolled": true
   },
   "outputs": [],
   "source": [
    "cl.list_hits(MaxResults=1)"
   ]
  }
 ],
 "metadata": {
  "kernelspec": {
   "display_name": "Python 3",
   "language": "python",
   "name": "python3"
  },
  "language_info": {
   "codemirror_mode": {
    "name": "ipython",
    "version": 3
   },
   "file_extension": ".py",
   "mimetype": "text/x-python",
   "name": "python",
   "nbconvert_exporter": "python",
   "pygments_lexer": "ipython3",
   "version": "3.6.9"
  }
 },
 "nbformat": 4,
 "nbformat_minor": 2
}
